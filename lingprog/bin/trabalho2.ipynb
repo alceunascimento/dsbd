{
 "cells": [
  {
   "cell_type": "markdown",
   "metadata": {},
   "source": [
    "\n",
    "# UFPR\n",
    "## Data Science Big Data\n",
    "### Linguagens de Programação\n",
    "Trabalho 1 - Usar Dataset 2  \n",
    "Vencimento: sábado, 27 abr. 2024, 23:00  \n",
    "Aluno: Alceu Eilert Nascimento  \n",
    "\n",
    "# Escopo: importar, limpar e analisar um dataset\n",
    "\n",
    "Informações sobre o rendimento de alunos de um curso em algumas disciplinas ao longo dos anos.\n",
    "O primeiro arquivo contido no Dataset Notas, historico-alg1_SIGA_ANONIMIZADO.csv, refere-se ao aproveitamento \n",
    "de estudantes na disciplina ALGORITMOS 1 entre os anos de 2011 e 2022.\n",
    "A primeira coluna (\"matricula\") é composta por números inteiros, onde cada número representa um indivíduo. \n",
    "Assim, repetições nessa coluna indicam que o estudante fez mais de uma vez a mesma matéria.\n",
    "Atenção: R-nota indica REPROVAÇÃO POR NOTA e R-freq REPROVAÇÃO POR FALTA. \n",
    "Se houver outro \"status\" para representar reprovação, este dever ser trocado para o rótulo adequado (R-nota ou R-freq). \n",
    "Frequências < 75 causam reprovação por falta; Médias abaixo de 50 causam reprovação por nota.\n"
   ]
  },
  {
   "cell_type": "code",
   "execution_count": 36,
   "metadata": {},
   "outputs": [],
   "source": [
    "# SETUP\n",
    "import csv\n",
    "import re"
   ]
  },
  {
   "cell_type": "code",
   "execution_count": 35,
   "metadata": {},
   "outputs": [
    {
     "name": "stdout",
     "output_type": "stream",
     "text": [
      "frequencia: ['96', '73', '76', '0', '0']\n",
      "ch: ['60', '60', '60', '60', '60']\n",
      "status: ['Aprovado', 'R-freq', 'R-nota', 'Cancelado', 'Cancelado']\n",
      "codigo: ['CI055', 'CI1055', 'CI1055', 'CI1055', 'CI1055']\n",
      "codigoCurriculoSie: ['21A', '21A', '21A', '21A', '21A']\n",
      "curriculo: ['Sim', 'Sim', 'Sim', 'Sim', 'Sim']\n",
      "situacaoDiscente: ['Conclusão formatura', 'Registro ativo', 'Registro ativo', 'Registro ativo', 'Registro ativo']\n",
      "observacao: ['C', '', '', '', '']\n",
      "nomeTuma: ['', 'A', 'B', 'B', 'ERE 2 - D']\n",
      "disciplina: ['ALGORITMOS E ESTRUTURAS DE DADOS I', 'ALGORITMOS E ESTRUTURAS DE DADOS 1', 'ALGORITMOS E ESTRUTURAS DE DADOS 1', 'ALGORITMOS E ESTRUTURAS DE DADOS 1', 'ALGORITMOS E ESTRUTURAS DE DADOS 1']\n",
      "nota: ['67', '0', '11', '0', '0']\n",
      "tipo: ['TURMA', 'TURMA', 'TURMA', 'TURMA', 'TURMA']\n",
      "natureza: ['Obrigatória', 'Obrigatória', 'Obrigatória', 'Obrigatória', 'Obrigatória']\n",
      "matricula: ['0', '1', '1', '1', '1']\n",
      "ano: ['2016', '2019', '2019', '2020', '2020']\n",
      "periodo: ['1', '1', '2', '2', '1']\n"
     ]
    }
   ],
   "source": [
    "#--------------------------------------------------------------------------------------------------------------------------------------------------\n",
    "# GETTING DATA\n",
    "\n",
    "path = '/home/aenascimento/dsbd_project1/data/dsbd_trab2.csv'\n",
    "\n",
    "# Inicialização do dicionário com listas vazias para cada chave\n",
    "keys = {'matricula', 'codigo', 'disciplina', 'periodo', 'ano', 'curriculo', 'ch', 'nota', 'frequencia', 'status', 'tipo', 'observacao', 'natureza', 'situacaoDiscente', 'nomeTuma', 'codigoCurriculoSie'}\n",
    "data = dict([(key, []) for key in keys])\n",
    "\n",
    "# Abrir o arquivo CSV para leitura\n",
    "with open(path, 'r', newline='') as csvfile:\n",
    "    # Criar um objeto reader\n",
    "    reader = csv.DictReader(csvfile)  # Assume que a primeira linha contém os cabeçalhos\n",
    "    \n",
    "    # Iterar sobre cada registro no arquivo\n",
    "    for row in reader:\n",
    "        for key in data:\n",
    "            # Adiciona o valor da coluna (se presente no registro e na lista de chaves) à lista correspondente\n",
    "            if key in row:\n",
    "                data[key].append(row[key])\n",
    "\n",
    "# Imprimir os primeiros 5 valores de cada chave para verificação\n",
    "for key, values in data.items():\n",
    "    print(f\"{key}: {values[:5]}\")\n"
   ]
  },
  {
   "cell_type": "code",
   "execution_count": null,
   "metadata": {},
   "outputs": [],
   "source": []
  }
 ],
 "metadata": {
  "kernelspec": {
   "display_name": "Python 3",
   "language": "python",
   "name": "python3"
  },
  "language_info": {
   "codemirror_mode": {
    "name": "ipython",
    "version": 3
   },
   "file_extension": ".py",
   "mimetype": "text/x-python",
   "name": "python",
   "nbconvert_exporter": "python",
   "pygments_lexer": "ipython3",
   "version": "3.12.2"
  }
 },
 "nbformat": 4,
 "nbformat_minor": 2
}
